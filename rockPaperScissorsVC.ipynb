{
 "cells": [
  {
   "cell_type": "code",
   "execution_count": 1,
   "metadata": {
    "collapsed": true
   },
   "outputs": [],
   "source": [
    "import random \n",
    "import string "
   ]
  },
  {
   "cell_type": "code",
   "execution_count": 2,
   "metadata": {
    "collapsed": false
   },
   "outputs": [],
   "source": [
    "def playGame(comp, player): \n",
    "    \"\"\" This function plays rock, paper, scissors by taking in two ints (comp == computer's choice and player = player's choice) and assuming rock = 1, paper = 2, and scissors = 3. Returns 1 if player wins \"\"\"\n",
    "    if comp == player: \n",
    "        print \"It's a draw!\" \n",
    "        return 0 \n",
    "    elif comp == 1 and player == 3:\n",
    "        print \"ROCK SMASH PUNY SCISSORS :(\" \n",
    "        return 0\n",
    "    elif comp == 2 and player == 1: \n",
    "        print \"SWARM SWARM SWARM Paper covered your rock :(\"\n",
    "        return 0\n",
    "    elif comp == 3 and player == 2: \n",
    "        print \"SHINK Scissors cut your paper:(\" \n",
    "        return 0\n",
    "    elif (player == 1 and comp == 3) or (player == 2 and comp == 1) or (player == 3 and comp == 2): \n",
    "        print \"You have stopped the robots... for now....\" \n",
    "        return 1"
   ]
  },
  {
   "cell_type": "code",
   "execution_count": 3,
   "metadata": {
    "collapsed": false
   },
   "outputs": [
    {
     "name": "stdout",
     "output_type": "stream",
     "text": [
      "Please pick one: \n",
      " 1. Rock \n",
      " 2. Paper \n",
      " 3. Scissors \n",
      " 4. Quit \n",
      "2\n",
      "You have stopped the robots... for now....\n",
      "Please pick one: \n",
      " 1. Rock \n",
      " 2. Paper \n",
      " 3. Scissors \n",
      " 4. Quit \n",
      "1\n",
      "You have stopped the robots... for now....\n",
      "Please pick one: \n",
      " 1. Rock \n",
      " 2. Paper \n",
      " 3. Scissors \n",
      " 4. Quit \n",
      "3\n",
      "ROCK SMASH PUNY SCISSORS :(\n",
      "Please pick one: \n",
      " 1. Rock \n",
      " 2. Paper \n",
      " 3. Scissors \n",
      " 4. Quit \n",
      "4\n",
      "You played 3 games, and beat the robots 2 times.\n",
      "So long. Farewell. Auf wiedersehen. Goodbye.\n"
     ]
    }
   ],
   "source": [
    "x = 0\n",
    "pool = [1,2,3] #1= rock, 2 = paper, 3 = scissors \n",
    "playerRock = 0 #Assignment instructions to keep a counter, but I chose to use a pool approach to keep track\n",
    "playerPaper = 0 \n",
    "playerScissors = 0 \n",
    "gameCounter = 0 \n",
    "winCount = 0 \n",
    "while x == 0:\n",
    "    \n",
    "    play = random.choice(pool) #Computer picks \n",
    "\n",
    "    #players turn \n",
    "    player = raw_input(\"Please pick one: \\n 1. Rock \\n 2. Paper \\n 3. Scissors \\n 4. Quit \\n\")\n",
    "    lplayer = player.lower() #Dealing with user choice variability\n",
    "    y = 0 \n",
    "    while y == 0:\n",
    "        if lplayer == \"4\" or lplayer == \"quit\": \n",
    "            print \"You played %d games, and beat the robots %d times.\" % (gameCounter, winCount)\n",
    "            print \"So long. Farewell. Auf wiedersehen. Goodbye.\"\n",
    "            x = 1 \n",
    "            break\n",
    "        elif lplayer == \"1\" or lplayer == \"rock\":\n",
    "            numPlayer = 1 #Dealing with user choice variability \n",
    "            playerRock += 1 \n",
    "            gameCounter += 1\n",
    "            y = 1\n",
    "            winCount += playGame(play, numPlayer)\n",
    "            pool.append(2) \n",
    "        elif lplayer == \"2\" or lplayer == \"paper\": \n",
    "            numPlayer = 2 #Dealing with user choice variability\n",
    "            playerPaper += 1\n",
    "            gameCounter += 1\n",
    "            y = 1  \n",
    "            winCount += playGame(play, numPlayer)\n",
    "            pool.append(3)\n",
    "        elif lplayer == \"3\" or lplayer ==  \"scissors\": \n",
    "            numPlayer = 3 #Dealing with user choice variability\n",
    "            playerScissors += 1\n",
    "            gameCounter += 1\n",
    "            y = 1 \n",
    "            winCount += playGame(play, numPlayer)\n",
    "            pool.append(1)\n",
    "        else: \n",
    "            print \"I'm sorry Hal. I can't let you do that. \\n Choose again\"\n",
    "            y = 1"
   ]
  },
  {
   "cell_type": "code",
   "execution_count": null,
   "metadata": {
    "collapsed": true
   },
   "outputs": [],
   "source": [
    "\n",
    "    "
   ]
  }
 ],
 "metadata": {
  "kernelspec": {
   "display_name": "Python [Root]",
   "language": "python",
   "name": "Python [Root]"
  },
  "language_info": {
   "codemirror_mode": {
    "name": "ipython",
    "version": 2
   },
   "file_extension": ".py",
   "mimetype": "text/x-python",
   "name": "python",
   "nbconvert_exporter": "python",
   "pygments_lexer": "ipython2",
   "version": "2.7.11"
  }
 },
 "nbformat": 4,
 "nbformat_minor": 0
}
