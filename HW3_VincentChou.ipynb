{
 "cells": [
  {
   "cell_type": "code",
   "execution_count": 1,
   "metadata": {
    "collapsed": false
   },
   "outputs": [
    {
     "name": "stdout",
     "output_type": "stream",
     "text": [
      "Populating the interactive namespace from numpy and matplotlib\n"
     ]
    }
   ],
   "source": [
    "from pandas import Series, DataFrame\n",
    "import pandas as pd\n",
    "import numpy as np\n",
    "%pylab inline"
   ]
  },
  {
   "cell_type": "markdown",
   "metadata": {},
   "source": [
    "### 1. Read in the Data "
   ]
  },
  {
   "cell_type": "markdown",
   "metadata": {},
   "source": [
    "Using pd.read_csv, I read in the data. By opening the file, at a cursory glance you can see the seperator is a tab. The names are given by the assignment. "
   ]
  },
  {
   "cell_type": "code",
   "execution_count": 2,
   "metadata": {
    "collapsed": false
   },
   "outputs": [],
   "source": [
    "gold = pd.read_csv(\"gold.txt\", sep = \"\\t\", names = [\"url\", \"category\"]) \n",
    "labels = pd.read_csv(\"labels.txt\", sep = \"\\t\", names = [\"turk\", \"url\", \"category\"]) \n"
   ]
  },
  {
   "cell_type": "markdown",
   "metadata": {},
   "source": [
    "### 2. Split into Two DataFrames"
   ]
  },
  {
   "cell_type": "markdown",
   "metadata": {},
   "source": [
    "I created a mask that is true when a label url is in gold. I also made a mask that is the opposite of that. Applying these to the labels set splits it into two data frames. "
   ]
  },
  {
   "cell_type": "code",
   "execution_count": 3,
   "metadata": {
    "collapsed": false
   },
   "outputs": [
    {
     "data": {
      "text/html": [
       "<div>\n",
       "<table border=\"1\" class=\"dataframe\">\n",
       "  <thead>\n",
       "    <tr style=\"text-align: right;\">\n",
       "      <th></th>\n",
       "      <th>turk</th>\n",
       "      <th>url</th>\n",
       "      <th>category</th>\n",
       "    </tr>\n",
       "  </thead>\n",
       "  <tbody>\n",
       "    <tr>\n",
       "      <th>245</th>\n",
       "      <td>A1253FXHCZ9CWM</td>\n",
       "      <td>http://0800-horoscope.com</td>\n",
       "      <td>G</td>\n",
       "    </tr>\n",
       "    <tr>\n",
       "      <th>246</th>\n",
       "      <td>A153PKAL7OAY36</td>\n",
       "      <td>http://0800-horoscope.com</td>\n",
       "      <td>G</td>\n",
       "    </tr>\n",
       "    <tr>\n",
       "      <th>247</th>\n",
       "      <td>A1FV9SAPL5C6KY</td>\n",
       "      <td>http://0800-horoscope.com</td>\n",
       "      <td>G</td>\n",
       "    </tr>\n",
       "    <tr>\n",
       "      <th>248</th>\n",
       "      <td>A1JTOT0DWM6QGL</td>\n",
       "      <td>http://0800-horoscope.com</td>\n",
       "      <td>G</td>\n",
       "    </tr>\n",
       "    <tr>\n",
       "      <th>249</th>\n",
       "      <td>A1PXXEOGQ76RNJ</td>\n",
       "      <td>http://0800-horoscope.com</td>\n",
       "      <td>G</td>\n",
       "    </tr>\n",
       "    <tr>\n",
       "      <th>250</th>\n",
       "      <td>A21US576U8SCO4</td>\n",
       "      <td>http://0800-horoscope.com</td>\n",
       "      <td>G</td>\n",
       "    </tr>\n",
       "    <tr>\n",
       "      <th>251</th>\n",
       "      <td>A22C0PJUBFJTI0</td>\n",
       "      <td>http://0800-horoscope.com</td>\n",
       "      <td>G</td>\n",
       "    </tr>\n",
       "    <tr>\n",
       "      <th>252</th>\n",
       "      <td>A270HOAHEVIFW0</td>\n",
       "      <td>http://0800-horoscope.com</td>\n",
       "      <td>G</td>\n",
       "    </tr>\n",
       "    <tr>\n",
       "      <th>253</th>\n",
       "      <td>A2EG8FHODTEV63</td>\n",
       "      <td>http://0800-horoscope.com</td>\n",
       "      <td>R</td>\n",
       "    </tr>\n",
       "    <tr>\n",
       "      <th>254</th>\n",
       "      <td>A2LM400F4F0V0M</td>\n",
       "      <td>http://0800-horoscope.com</td>\n",
       "      <td>G</td>\n",
       "    </tr>\n",
       "  </tbody>\n",
       "</table>\n",
       "</div>"
      ],
      "text/plain": [
       "               turk                        url category\n",
       "245  A1253FXHCZ9CWM  http://0800-horoscope.com        G\n",
       "246  A153PKAL7OAY36  http://0800-horoscope.com        G\n",
       "247  A1FV9SAPL5C6KY  http://0800-horoscope.com        G\n",
       "248  A1JTOT0DWM6QGL  http://0800-horoscope.com        G\n",
       "249  A1PXXEOGQ76RNJ  http://0800-horoscope.com        G\n",
       "250  A21US576U8SCO4  http://0800-horoscope.com        G\n",
       "251  A22C0PJUBFJTI0  http://0800-horoscope.com        G\n",
       "252  A270HOAHEVIFW0  http://0800-horoscope.com        G\n",
       "253  A2EG8FHODTEV63  http://0800-horoscope.com        R\n",
       "254  A2LM400F4F0V0M  http://0800-horoscope.com        G"
      ]
     },
     "execution_count": 3,
     "metadata": {},
     "output_type": "execute_result"
    }
   ],
   "source": [
    "mask1 = labels[\"url\"].isin(gold[\"url\"])\n",
    "mask2 = ~mask1 \n",
    "labels_on_gold = labels[mask1] \n",
    "labels_unknown = labels[mask2] \n",
    "labels_on_gold[0:10]\n"
   ]
  },
  {
   "cell_type": "markdown",
   "metadata": {},
   "source": [
    "### 3. Compute accuracies of Turks"
   ]
  },
  {
   "cell_type": "markdown",
   "metadata": {},
   "source": [
    "I instatiated a dataframe containing the number of ratings done by each turk on the gold set. Then I dropped category which was unneeded. Then I sorted it which I probably didn't need to do. Then I changed the name of that column. Then I merged the labels_on_gold with gold to get two columns of the true and user categories. Then when they matched I made a column that had 1 or 0 (if they didn't). Then I added those up. Then I merged that onto my rater_goodness and did the math for the last column before cleaning it up. "
   ]
  },
  {
   "cell_type": "code",
   "execution_count": 4,
   "metadata": {
    "collapsed": false
   },
   "outputs": [
    {
     "data": {
      "text/html": [
       "<div>\n",
       "<table border=\"1\" class=\"dataframe\">\n",
       "  <thead>\n",
       "    <tr style=\"text-align: right;\">\n",
       "      <th></th>\n",
       "      <th>turk</th>\n",
       "      <th>Number of Ratings</th>\n",
       "      <th>Average Correctness</th>\n",
       "    </tr>\n",
       "  </thead>\n",
       "  <tbody>\n",
       "    <tr>\n",
       "      <th>8</th>\n",
       "      <td>A153PKAL7OAY36</td>\n",
       "      <td>148</td>\n",
       "      <td>0.722973</td>\n",
       "    </tr>\n",
       "    <tr>\n",
       "      <th>81</th>\n",
       "      <td>A2BTR0GQ5B5JI6</td>\n",
       "      <td>126</td>\n",
       "      <td>0.523810</td>\n",
       "    </tr>\n",
       "    <tr>\n",
       "      <th>256</th>\n",
       "      <td>ATVALOQVDCMZW</td>\n",
       "      <td>103</td>\n",
       "      <td>0.854369</td>\n",
       "    </tr>\n",
       "    <tr>\n",
       "      <th>266</th>\n",
       "      <td>AZSDW7JJL5VA7</td>\n",
       "      <td>100</td>\n",
       "      <td>0.680000</td>\n",
       "    </tr>\n",
       "    <tr>\n",
       "      <th>164</th>\n",
       "      <td>A3GE97GX3OXJTW</td>\n",
       "      <td>85</td>\n",
       "      <td>0.658824</td>\n",
       "    </tr>\n",
       "    <tr>\n",
       "      <th>172</th>\n",
       "      <td>A3JMQDTEKRE5X6</td>\n",
       "      <td>80</td>\n",
       "      <td>0.675000</td>\n",
       "    </tr>\n",
       "    <tr>\n",
       "      <th>97</th>\n",
       "      <td>A2JP3HEL3J25AJ</td>\n",
       "      <td>80</td>\n",
       "      <td>0.687500</td>\n",
       "    </tr>\n",
       "    <tr>\n",
       "      <th>175</th>\n",
       "      <td>A3MA9V9UPGCOK7</td>\n",
       "      <td>71</td>\n",
       "      <td>0.774648</td>\n",
       "    </tr>\n",
       "    <tr>\n",
       "      <th>245</th>\n",
       "      <td>APYV9Y0DFZFVP</td>\n",
       "      <td>71</td>\n",
       "      <td>0.746479</td>\n",
       "    </tr>\n",
       "  </tbody>\n",
       "</table>\n",
       "</div>"
      ],
      "text/plain": [
       "               turk  Number of Ratings  Average Correctness\n",
       "8    A153PKAL7OAY36                148             0.722973\n",
       "81   A2BTR0GQ5B5JI6                126             0.523810\n",
       "256   ATVALOQVDCMZW                103             0.854369\n",
       "266   AZSDW7JJL5VA7                100             0.680000\n",
       "164  A3GE97GX3OXJTW                 85             0.658824\n",
       "172  A3JMQDTEKRE5X6                 80             0.675000\n",
       "97   A2JP3HEL3J25AJ                 80             0.687500\n",
       "175  A3MA9V9UPGCOK7                 71             0.774648\n",
       "245   APYV9Y0DFZFVP                 71             0.746479"
      ]
     },
     "execution_count": 4,
     "metadata": {},
     "output_type": "execute_result"
    }
   ],
   "source": [
    "rater_goodness = labels_on_gold.groupby(\"turk\").count() \n",
    "rater_goodness = rater_goodness.drop(\"category\", 1) \n",
    "rater_goodness = rater_goodness.sort_values(\"url\", ascending = False)\n",
    "rater_goodness[\"Number of Ratings\"] = rater_goodness[\"url\"]\n",
    "rater_goodness = rater_goodness.drop(\"url\", 1) \n",
    "merged = labels_on_gold.merge(gold, on = \"url\")\n",
    "merged[\"c\"] = np.where(merged[\"category_x\"]==merged[\"category_y\"], 1, 0)\n",
    "\n",
    "temp = merged.groupby(\"turk\")[[\"c\"]].agg(sum) \n",
    "temp = temp.reset_index() \n",
    "rater_goodness = rater_goodness.reset_index()\n",
    "rater_goodness = temp.merge(rater_goodness, on = \"turk\").sort_values(\"Number of Ratings\", ascending = False)\n",
    "rater_goodness[\"Average Correctness\"] = rater_goodness[\"c\"]/rater_goodness[\"Number of Ratings\"] \n",
    "rater_goodness = rater_goodness.drop(\"c\",1) \n",
    "rater_goodness[1:10]\n"
   ]
  },
  {
   "cell_type": "markdown",
   "metadata": {},
   "source": [
    "### 4. Odds Ratios"
   ]
  },
  {
   "cell_type": "markdown",
   "metadata": {},
   "source": [
    "I did the math according to the odds formula. "
   ]
  },
  {
   "cell_type": "code",
   "execution_count": 5,
   "metadata": {
    "collapsed": false
   },
   "outputs": [
    {
     "data": {
      "text/html": [
       "<div>\n",
       "<table border=\"1\" class=\"dataframe\">\n",
       "  <thead>\n",
       "    <tr style=\"text-align: right;\">\n",
       "      <th></th>\n",
       "      <th>Number of Ratings</th>\n",
       "      <th>Average Correctness</th>\n",
       "      <th>odds</th>\n",
       "    </tr>\n",
       "    <tr>\n",
       "      <th>turk</th>\n",
       "      <th></th>\n",
       "      <th></th>\n",
       "      <th></th>\n",
       "    </tr>\n",
       "  </thead>\n",
       "  <tbody>\n",
       "    <tr>\n",
       "      <th>A31OCN4MNHUQ6W</th>\n",
       "      <td>184</td>\n",
       "      <td>0.777174</td>\n",
       "      <td>3.472222</td>\n",
       "    </tr>\n",
       "    <tr>\n",
       "      <th>A153PKAL7OAY36</th>\n",
       "      <td>148</td>\n",
       "      <td>0.722973</td>\n",
       "      <td>2.600369</td>\n",
       "    </tr>\n",
       "    <tr>\n",
       "      <th>A2BTR0GQ5B5JI6</th>\n",
       "      <td>126</td>\n",
       "      <td>0.523810</td>\n",
       "      <td>1.097695</td>\n",
       "    </tr>\n",
       "    <tr>\n",
       "      <th>ATVALOQVDCMZW</th>\n",
       "      <td>103</td>\n",
       "      <td>0.854369</td>\n",
       "      <td>5.826657</td>\n",
       "    </tr>\n",
       "    <tr>\n",
       "      <th>AZSDW7JJL5VA7</th>\n",
       "      <td>100</td>\n",
       "      <td>0.680000</td>\n",
       "      <td>2.118380</td>\n",
       "    </tr>\n",
       "    <tr>\n",
       "      <th>A3GE97GX3OXJTW</th>\n",
       "      <td>85</td>\n",
       "      <td>0.658824</td>\n",
       "      <td>1.925391</td>\n",
       "    </tr>\n",
       "    <tr>\n",
       "      <th>A3JMQDTEKRE5X6</th>\n",
       "      <td>80</td>\n",
       "      <td>0.675000</td>\n",
       "      <td>2.070552</td>\n",
       "    </tr>\n",
       "    <tr>\n",
       "      <th>A2JP3HEL3J25AJ</th>\n",
       "      <td>80</td>\n",
       "      <td>0.687500</td>\n",
       "      <td>2.192982</td>\n",
       "    </tr>\n",
       "    <tr>\n",
       "      <th>A3MA9V9UPGCOK7</th>\n",
       "      <td>71</td>\n",
       "      <td>0.774648</td>\n",
       "      <td>3.422313</td>\n",
       "    </tr>\n",
       "    <tr>\n",
       "      <th>APYV9Y0DFZFVP</th>\n",
       "      <td>71</td>\n",
       "      <td>0.746479</td>\n",
       "      <td>2.932876</td>\n",
       "    </tr>\n",
       "  </tbody>\n",
       "</table>\n",
       "</div>"
      ],
      "text/plain": [
       "                Number of Ratings  Average Correctness      odds\n",
       "turk                                                            \n",
       "A31OCN4MNHUQ6W                184             0.777174  3.472222\n",
       "A153PKAL7OAY36                148             0.722973  2.600369\n",
       "A2BTR0GQ5B5JI6                126             0.523810  1.097695\n",
       "ATVALOQVDCMZW                 103             0.854369  5.826657\n",
       "AZSDW7JJL5VA7                 100             0.680000  2.118380\n",
       "A3GE97GX3OXJTW                 85             0.658824  1.925391\n",
       "A3JMQDTEKRE5X6                 80             0.675000  2.070552\n",
       "A2JP3HEL3J25AJ                 80             0.687500  2.192982\n",
       "A3MA9V9UPGCOK7                 71             0.774648  3.422313\n",
       "APYV9Y0DFZFVP                  71             0.746479  2.932876"
      ]
     },
     "execution_count": 5,
     "metadata": {},
     "output_type": "execute_result"
    }
   ],
   "source": [
    "rater_goodness[\"odds\"] = rater_goodness[\"Average Correctness\"]/(1.001-rater_goodness[\"Average Correctness\"]) \n",
    "rater_goodness1 = rater_goodness\n",
    "rater_goodness = rater_goodness.set_index(\"turk\")\n",
    "rater_goodness[0:10]"
   ]
  },
  {
   "cell_type": "markdown",
   "metadata": {},
   "source": [
    "### 5. Most Accurate Turks"
   ]
  },
  {
   "cell_type": "markdown",
   "metadata": {},
   "source": [
    "I filtered out the ones who had less than 20 ratings and sorted them by their correctness"
   ]
  },
  {
   "cell_type": "code",
   "execution_count": 6,
   "metadata": {
    "collapsed": false
   },
   "outputs": [
    {
     "data": {
      "text/html": [
       "<div>\n",
       "<table border=\"1\" class=\"dataframe\">\n",
       "  <thead>\n",
       "    <tr style=\"text-align: right;\">\n",
       "      <th></th>\n",
       "      <th>turk</th>\n",
       "      <th>Number of Ratings</th>\n",
       "      <th>Average Correctness</th>\n",
       "      <th>odds</th>\n",
       "    </tr>\n",
       "  </thead>\n",
       "  <tbody>\n",
       "    <tr>\n",
       "      <th>122</th>\n",
       "      <td>A2U0R4X38GUKZE</td>\n",
       "      <td>20</td>\n",
       "      <td>0.950000</td>\n",
       "      <td>18.627451</td>\n",
       "    </tr>\n",
       "    <tr>\n",
       "      <th>61</th>\n",
       "      <td>A22C0PJUBFJTI0</td>\n",
       "      <td>36</td>\n",
       "      <td>0.916667</td>\n",
       "      <td>10.869565</td>\n",
       "    </tr>\n",
       "    <tr>\n",
       "      <th>65</th>\n",
       "      <td>A23YQUBXZPKILZ</td>\n",
       "      <td>24</td>\n",
       "      <td>0.875000</td>\n",
       "      <td>6.944444</td>\n",
       "    </tr>\n",
       "    <tr>\n",
       "      <th>256</th>\n",
       "      <td>ATVALOQVDCMZW</td>\n",
       "      <td>103</td>\n",
       "      <td>0.854369</td>\n",
       "      <td>5.826657</td>\n",
       "    </tr>\n",
       "    <tr>\n",
       "      <th>26</th>\n",
       "      <td>A1HIXWH4OXT8S4</td>\n",
       "      <td>40</td>\n",
       "      <td>0.825000</td>\n",
       "      <td>4.687500</td>\n",
       "    </tr>\n",
       "    <tr>\n",
       "      <th>133</th>\n",
       "      <td>A3220HG1O83HQ4</td>\n",
       "      <td>22</td>\n",
       "      <td>0.818182</td>\n",
       "      <td>4.475385</td>\n",
       "    </tr>\n",
       "    <tr>\n",
       "      <th>57</th>\n",
       "      <td>A20PWAB7G3HDHU</td>\n",
       "      <td>20</td>\n",
       "      <td>0.800000</td>\n",
       "      <td>3.980100</td>\n",
       "    </tr>\n",
       "    <tr>\n",
       "      <th>136</th>\n",
       "      <td>A32W20KGQXS0LL</td>\n",
       "      <td>25</td>\n",
       "      <td>0.800000</td>\n",
       "      <td>3.980100</td>\n",
       "    </tr>\n",
       "    <tr>\n",
       "      <th>227</th>\n",
       "      <td>AJSJVK40F5HM6</td>\n",
       "      <td>28</td>\n",
       "      <td>0.785714</td>\n",
       "      <td>3.649635</td>\n",
       "    </tr>\n",
       "    <tr>\n",
       "      <th>132</th>\n",
       "      <td>A31OCN4MNHUQ6W</td>\n",
       "      <td>184</td>\n",
       "      <td>0.777174</td>\n",
       "      <td>3.472222</td>\n",
       "    </tr>\n",
       "  </tbody>\n",
       "</table>\n",
       "</div>"
      ],
      "text/plain": [
       "               turk  Number of Ratings  Average Correctness       odds\n",
       "122  A2U0R4X38GUKZE                 20             0.950000  18.627451\n",
       "61   A22C0PJUBFJTI0                 36             0.916667  10.869565\n",
       "65   A23YQUBXZPKILZ                 24             0.875000   6.944444\n",
       "256   ATVALOQVDCMZW                103             0.854369   5.826657\n",
       "26   A1HIXWH4OXT8S4                 40             0.825000   4.687500\n",
       "133  A3220HG1O83HQ4                 22             0.818182   4.475385\n",
       "57   A20PWAB7G3HDHU                 20             0.800000   3.980100\n",
       "136  A32W20KGQXS0LL                 25             0.800000   3.980100\n",
       "227   AJSJVK40F5HM6                 28             0.785714   3.649635\n",
       "132  A31OCN4MNHUQ6W                184             0.777174   3.472222"
      ]
     },
     "execution_count": 6,
     "metadata": {},
     "output_type": "execute_result"
    }
   ],
   "source": [
    "accuracy = rater_goodness1.groupby(\"turk\").filter(lambda x: x[\"Number of Ratings\"]>=20) \n",
    "topTen = accuracy.sort_values(\"Average Correctness\", ascending = False)[0:10] \n",
    "topTen"
   ]
  },
  {
   "cell_type": "markdown",
   "metadata": {},
   "source": [
    "### 6. Ratings Counts vs Accuracy"
   ]
  },
  {
   "cell_type": "markdown",
   "metadata": {},
   "source": [
    "It does not appear that people who do a lot of ratings are more correct than people who don't. The only high ratings appear when the number of ratings is low. However, the more ratings someone does, it seems they're less likely to get most of them wrong. "
   ]
  },
  {
   "cell_type": "code",
   "execution_count": 7,
   "metadata": {
    "collapsed": false
   },
   "outputs": [
    {
     "name": "stderr",
     "output_type": "stream",
     "text": [
      "C:\\Users\\vince\\Anaconda2\\lib\\site-packages\\IPython\\core\\interactiveshell.py:2885: FutureWarning: The pandas.stats.ols module is deprecated and will be removed in a future version. We refer to external packages like statsmodels, see some examples here: http://statsmodels.sourceforge.net/stable/regression.html\n",
      "  exec(code_obj, self.user_global_ns, self.user_ns)\n"
     ]
    },
    {
     "name": "stdout",
     "output_type": "stream",
     "text": [
      "R squared: 0.00205139994014\n"
     ]
    },
    {
     "data": {
      "image/png": "[encoded data removed]",
      "text/plain": [
       "<matplotlib.figure.Figure at 0xc4dbdd8>"
      ]
     },
     "metadata": {},
     "output_type": "display_data"
    }
   ],
   "source": [
    "result = pd.ols(x= rater_goodness1[\"Number of Ratings\"], y = rater_goodness1[\"Average Correctness\"]) \n",
    "y_expected = result.beta['intercept'] + rater_goodness1['Number of Ratings'] * result.beta['x']\n",
    "scatter(rater_goodness1[\"Number of Ratings\"], rater_goodness1[\"Average Correctness\"])\n",
    "plot(rater_goodness1['Number of Ratings'], y_expected, linewidth=2, color='red') \n",
    "print \"R squared: \" + str(result.r2)"
   ]
  },
  {
   "cell_type": "markdown",
   "metadata": {},
   "source": [
    "### 7. Overall Predicted Odds"
   ]
  },
  {
   "cell_type": "markdown",
   "metadata": {},
   "source": [
    "I sorted by turk to get the individuals then filtered so it only kept things where Number of Ratings was greater than the 75th percentile. Then I applied a mask based on this filter on labels_unknown. Then I merged them on turk to get odds and category in the same dataframe. Then I made a pivot table indexed by url, based on category with values of multiplied odds.  "
   ]
  },
  {
   "cell_type": "code",
   "execution_count": 8,
   "metadata": {
    "collapsed": false
   },
   "outputs": [
    {
     "data": {
      "text/html": [
       "<div>\n",
       "<table border=\"1\" class=\"dataframe\">\n",
       "  <thead>\n",
       "    <tr style=\"text-align: right;\">\n",
       "      <th>category</th>\n",
       "      <th>G</th>\n",
       "      <th>P</th>\n",
       "      <th>R</th>\n",
       "      <th>X</th>\n",
       "    </tr>\n",
       "    <tr>\n",
       "      <th>url</th>\n",
       "      <th></th>\n",
       "      <th></th>\n",
       "      <th></th>\n",
       "      <th></th>\n",
       "    </tr>\n",
       "  </thead>\n",
       "  <tbody>\n",
       "    <tr>\n",
       "      <th>http://0-101.net</th>\n",
       "      <td>2.155963</td>\n",
       "      <td>0.000000</td>\n",
       "      <td>0.0</td>\n",
       "      <td>0.0</td>\n",
       "    </tr>\n",
       "    <tr>\n",
       "      <th>http://000.cc</th>\n",
       "      <td>1.460583</td>\n",
       "      <td>0.000000</td>\n",
       "      <td>0.0</td>\n",
       "      <td>0.0</td>\n",
       "    </tr>\n",
       "    <tr>\n",
       "      <th>http://0000.jp</th>\n",
       "      <td>14.488244</td>\n",
       "      <td>0.000000</td>\n",
       "      <td>0.0</td>\n",
       "      <td>0.0</td>\n",
       "    </tr>\n",
       "    <tr>\n",
       "      <th>http://000relationships.com</th>\n",
       "      <td>9.914590</td>\n",
       "      <td>1.851852</td>\n",
       "      <td>0.0</td>\n",
       "      <td>0.0</td>\n",
       "    </tr>\n",
       "    <tr>\n",
       "      <th>http://000vitamins.com</th>\n",
       "      <td>3.784982</td>\n",
       "      <td>0.000000</td>\n",
       "      <td>0.0</td>\n",
       "      <td>0.0</td>\n",
       "    </tr>\n",
       "    <tr>\n",
       "      <th>http://000webhost.com</th>\n",
       "      <td>11.159502</td>\n",
       "      <td>0.000000</td>\n",
       "      <td>0.0</td>\n",
       "      <td>0.0</td>\n",
       "    </tr>\n",
       "    <tr>\n",
       "      <th>http://003my.com</th>\n",
       "      <td>4.912040</td>\n",
       "      <td>0.000000</td>\n",
       "      <td>0.0</td>\n",
       "      <td>0.0</td>\n",
       "    </tr>\n",
       "  </tbody>\n",
       "</table>\n",
       "</div>"
      ],
      "text/plain": [
       "category                             G         P    R    X\n",
       "url                                                       \n",
       "http://0-101.net              2.155963  0.000000  0.0  0.0\n",
       "http://000.cc                 1.460583  0.000000  0.0  0.0\n",
       "http://0000.jp               14.488244  0.000000  0.0  0.0\n",
       "http://000relationships.com   9.914590  1.851852  0.0  0.0\n",
       "http://000vitamins.com        3.784982  0.000000  0.0  0.0\n",
       "http://000webhost.com        11.159502  0.000000  0.0  0.0\n",
       "http://003my.com              4.912040  0.000000  0.0  0.0"
      ]
     },
     "execution_count": 8,
     "metadata": {},
     "output_type": "execute_result"
    }
   ],
   "source": [
    "worthyTurk = rater_goodness1.groupby(\"turk\").filter(lambda x: x[\"Number of Ratings\"] >= rater_goodness1[\"Number of Ratings\"].quantile(.75))\n",
    "labels_unknown75 = labels_unknown[labels_unknown[\"turk\"].isin(worthyTurk[\"turk\"])]\n",
    "\n",
    "merged = pd.merge(worthyTurk, labels_unknown75, on = \"turk\")\n",
    "\n",
    "pt = pd.pivot_table(merged, index= \"url\", columns = \"category\", values= \"odds\", fill_value = 0, aggfunc = np.prod)\n",
    "pt[0:7]"
   ]
  },
  {
   "cell_type": "markdown",
   "metadata": {},
   "source": [
    "### 8. Predicted Categories"
   ]
  },
  {
   "cell_type": "markdown",
   "metadata": {},
   "source": [
    "Most methods seem to work on columns so I transposed the pivot table (which is itself a dataframe) and used max and idxmax to get the values I want.  "
   ]
  },
  {
   "cell_type": "code",
   "execution_count": 9,
   "metadata": {
    "collapsed": false
   },
   "outputs": [
    {
     "data": {
      "text/html": [
       "<div>\n",
       "<table border=\"1\" class=\"dataframe\">\n",
       "  <thead>\n",
       "    <tr style=\"text-align: right;\">\n",
       "      <th></th>\n",
       "      <th>Top Category</th>\n",
       "      <th>Top Odds</th>\n",
       "    </tr>\n",
       "    <tr>\n",
       "      <th>url</th>\n",
       "      <th></th>\n",
       "      <th></th>\n",
       "    </tr>\n",
       "  </thead>\n",
       "  <tbody>\n",
       "    <tr>\n",
       "      <th>http://0-101.net</th>\n",
       "      <td>G</td>\n",
       "      <td>2.155963</td>\n",
       "    </tr>\n",
       "    <tr>\n",
       "      <th>http://000.cc</th>\n",
       "      <td>G</td>\n",
       "      <td>1.460583</td>\n",
       "    </tr>\n",
       "    <tr>\n",
       "      <th>http://0000.jp</th>\n",
       "      <td>G</td>\n",
       "      <td>14.488244</td>\n",
       "    </tr>\n",
       "    <tr>\n",
       "      <th>http://000relationships.com</th>\n",
       "      <td>G</td>\n",
       "      <td>9.914590</td>\n",
       "    </tr>\n",
       "    <tr>\n",
       "      <th>http://000vitamins.com</th>\n",
       "      <td>G</td>\n",
       "      <td>3.784982</td>\n",
       "    </tr>\n",
       "    <tr>\n",
       "      <th>http://000webhost.com</th>\n",
       "      <td>G</td>\n",
       "      <td>11.159502</td>\n",
       "    </tr>\n",
       "    <tr>\n",
       "      <th>http://003my.com</th>\n",
       "      <td>G</td>\n",
       "      <td>4.912040</td>\n",
       "    </tr>\n",
       "    <tr>\n",
       "      <th>http://007absolutehardcore.com/early_cumshots/index.html</th>\n",
       "      <td>X</td>\n",
       "      <td>293.252871</td>\n",
       "    </tr>\n",
       "    <tr>\n",
       "      <th>http://007swz.cn</th>\n",
       "      <td>G</td>\n",
       "      <td>1.393883</td>\n",
       "    </tr>\n",
       "    <tr>\n",
       "      <th>http://01768.com</th>\n",
       "      <td>G</td>\n",
       "      <td>1.393883</td>\n",
       "    </tr>\n",
       "  </tbody>\n",
       "</table>\n",
       "</div>"
      ],
      "text/plain": [
       "                                                   Top Category    Top Odds\n",
       "url                                                                        \n",
       "http://0-101.net                                              G    2.155963\n",
       "http://000.cc                                                 G    1.460583\n",
       "http://0000.jp                                                G   14.488244\n",
       "http://000relationships.com                                   G    9.914590\n",
       "http://000vitamins.com                                        G    3.784982\n",
       "http://000webhost.com                                         G   11.159502\n",
       "http://003my.com                                              G    4.912040\n",
       "http://007absolutehardcore.com/early_cumshots/i...            X  293.252871\n",
       "http://007swz.cn                                              G    1.393883\n",
       "http://01768.com                                              G    1.393883"
      ]
     },
     "execution_count": 9,
     "metadata": {},
     "output_type": "execute_result"
    }
   ],
   "source": [
    "result_75 = pd.DataFrame()\n",
    "result_75[\"Top Category\"] = pt.T.idxmax()\n",
    "result_75[\"Top Odds\"] = pt.T.max()\n",
    "result_75[0:10]"
   ]
  },
  {
   "cell_type": "markdown",
   "metadata": {},
   "source": [
    "### 9. Predicted Categories using more Turks"
   ]
  },
  {
   "cell_type": "markdown",
   "metadata": {},
   "source": [
    "The a lot of errors appear to be people mislabeling X things as G or G as X. Probably people who think this is hilarious. They are not as funny as they think. It also appears the 75th percentile rates tend to think many more things are just rated G while the 25th percentile raters split them into more groups. "
   ]
  },
  {
   "cell_type": "code",
   "execution_count": 11,
   "metadata": {
    "collapsed": false
   },
   "outputs": [
    {
     "data": {
      "text/html": [
       "<div>\n",
       "<table border=\"1\" class=\"dataframe\">\n",
       "  <thead>\n",
       "    <tr style=\"text-align: right;\">\n",
       "      <th>Top Category</th>\n",
       "      <th>G</th>\n",
       "      <th>P</th>\n",
       "      <th>R</th>\n",
       "      <th>X</th>\n",
       "    </tr>\n",
       "    <tr>\n",
       "      <th>Top Category25</th>\n",
       "      <th></th>\n",
       "      <th></th>\n",
       "      <th></th>\n",
       "      <th></th>\n",
       "    </tr>\n",
       "  </thead>\n",
       "  <tbody>\n",
       "    <tr>\n",
       "      <th>G</th>\n",
       "      <td>7911</td>\n",
       "      <td>229</td>\n",
       "      <td>22</td>\n",
       "      <td>70</td>\n",
       "    </tr>\n",
       "    <tr>\n",
       "      <th>P</th>\n",
       "      <td>836</td>\n",
       "      <td>263</td>\n",
       "      <td>36</td>\n",
       "      <td>12</td>\n",
       "    </tr>\n",
       "    <tr>\n",
       "      <th>R</th>\n",
       "      <td>285</td>\n",
       "      <td>65</td>\n",
       "      <td>120</td>\n",
       "      <td>35</td>\n",
       "    </tr>\n",
       "    <tr>\n",
       "      <th>X</th>\n",
       "      <td>237</td>\n",
       "      <td>25</td>\n",
       "      <td>35</td>\n",
       "      <td>429</td>\n",
       "    </tr>\n",
       "  </tbody>\n",
       "</table>\n",
       "</div>"
      ],
      "text/plain": [
       "Top Category       G    P    R    X\n",
       "Top Category25                     \n",
       "G               7911  229   22   70\n",
       "P                836  263   36   12\n",
       "R                285   65  120   35\n",
       "X                237   25   35  429"
      ]
     },
     "execution_count": 11,
     "metadata": {},
     "output_type": "execute_result"
    }
   ],
   "source": [
    "worthyTurk2 = rater_goodness1.groupby(\"turk\").filter(lambda x: x[\"Number of Ratings\"] >= rater_goodness1[\"Number of Ratings\"].quantile(.25))\n",
    "labels_unknown752 = labels_unknown[labels_unknown[\"turk\"].isin(worthyTurk2[\"turk\"])]\n",
    "\n",
    "merged2 = pd.merge(worthyTurk2, labels_unknown752, on = \"turk\")\n",
    "\n",
    "pt2 = pd.pivot_table(merged2, index= \"url\", columns = \"category\", values= \"odds\", fill_value = 0, aggfunc = np.prod) \n",
    "\n",
    "result_25 = pd.DataFrame()\n",
    "result_25[\"Top Category25\"] = pt2.T.idxmax()\n",
    "result_25[\"Top Odds25\"] = pt2.T.max()\n",
    "\n",
    "pd.crosstab(result_25[\"Top Category25\"],result_75[\"Top Category\"])"
   ]
  }
 ],
 "metadata": {
  "anaconda-cloud": {},
  "kernelspec": {
   "display_name": "Python [Root]",
   "language": "python",
   "name": "Python [Root]"
  },
  "language_info": {
   "codemirror_mode": {
    "name": "ipython",
    "version": 2
   },
   "file_extension": ".py",
   "mimetype": "text/x-python",
   "name": "python",
   "nbconvert_exporter": "python",
   "pygments_lexer": "ipython2",
   "version": "2.7.11"
  }
 },
 "nbformat": 4,
 "nbformat_minor": 0
}
