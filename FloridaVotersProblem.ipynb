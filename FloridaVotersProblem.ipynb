{
 "cells": [
  {
   "cell_type": "code",
   "execution_count": 1,
   "metadata": {
    "collapsed": true
   },
   "outputs": [],
   "source": [
    "import re #I'll want to use regex later\n",
    "\n",
    "file = open(\"FloridaVoters.html\", 'r') #opening the file  \n",
    "\n"
   ]
  },
  {
   "cell_type": "code",
   "execution_count": 2,
   "metadata": {
    "collapsed": false
   },
   "outputs": [],
   "source": [
    "floridaLines = [] #initializing the list. \n",
    "for line in file: #I want to take every line in the file and make it its own index in the list\n",
    "    floridaLines.append(line)\n",
    "    \n",
    "file.close() #Now that I have all the data from the file, I'll close it for safety. "
   ]
  },
  {
   "cell_type": "code",
   "execution_count": 3,
   "metadata": {
    "collapsed": false
   },
   "outputs": [],
   "source": [
    "#print floridaLines \n",
    "#looking at this and searching online, I've found that in HTML cells of a table are stored beween <td><\\td>.\n",
    "#I also notice that each cell has been placed on its own line by reading the raw data. So every cell of the table should \n",
    "#contain this <td><\\td> line"
   ]
  },
  {
   "cell_type": "code",
   "execution_count": 4,
   "metadata": {
    "collapsed": false
   },
   "outputs": [],
   "source": [
    "tableData = [] #Initializing the list. I want to make a list of all the cells in the table. \n",
    "for lines in floridaLines: #for each line in my big list\n",
    "    if \"<td>\" in lines: #if the table tag exists\n",
    "        tableData.append(re.sub(\"<td>|</td>|\\n|,\",\"\", lines)) #store it in my tableData list and clean it up with regex \n",
    "        #My regex says, when you find a \"<td>\" or \"<\\td> or return carriage or a comma, replace it with \"\" for lines"
   ]
  },
  {
   "cell_type": "code",
   "execution_count": 5,
   "metadata": {
    "collapsed": false
   },
   "outputs": [],
   "source": [
    "#tableData #I now have all the table data and it's clean. \n",
    "#test block please ignore "
   ]
  },
  {
   "cell_type": "code",
   "execution_count": 6,
   "metadata": {
    "collapsed": false
   },
   "outputs": [],
   "source": [
    "#re.sub(\"<td>|<\\td>\", \"\", \"<td>Hi!<\\td>\") #just testing my regex \n",
    "#Test block please ignore"
   ]
  },
  {
   "cell_type": "code",
   "execution_count": 7,
   "metadata": {
    "collapsed": false
   },
   "outputs": [],
   "source": [
    "fullTable = [] #Initializing \n",
    "\n",
    "for i in range(0,len(tableData),6):\n",
    "    innerTuple = () #Unnecessary, but for clarity, I'm showing this tuple being reinitialized\n",
    "    innerTuple = (tableData[i],int(tableData[i+1]),int(tableData[i+2])) #Since the values we want are i, i+1, and i+2, it is easy to retrieve them\n",
    "    fullTable.append(innerTuple) #Added to the the list. So it should be a list of tuples. \n",
    "    \n"
   ]
  },
  {
   "cell_type": "code",
   "execution_count": 8,
   "metadata": {
    "collapsed": false
   },
   "outputs": [],
   "source": [
    "fullTable = sorted(fullTable, key = lambda x:x[2]) #Sorted it with the sorted function. Used a lambda expression to make it sort by the 3rd item in the tuple"
   ]
  },
  {
   "cell_type": "code",
   "execution_count": 9,
   "metadata": {
    "collapsed": false
   },
   "outputs": [],
   "source": [
    "#fullTable #Just taking a look at my beautiful work"
   ]
  },
  {
   "cell_type": "code",
   "execution_count": 10,
   "metadata": {
    "collapsed": false
   },
   "outputs": [
    {
     "name": "stdout",
     "output_type": "stream",
     "text": [
      "LAFAYETTE         1373      2672\n",
      "GLADES            2190      3110\n",
      "LIBERTY            720      3372\n",
      "UNION             2752      3579\n",
      "GILCHRIST         5789      3652\n",
      "FRANKLIN          2234      4319\n",
      "HOLMES            5282      4434\n",
      "GULF              4234      4521\n",
      "HARDEE            4859      4702\n",
      "HAMILTON          2154      4796\n",
      "DIXIE             3314      4839\n",
      "CALHOUN           2201      5324\n",
      "WASHINGTON        7101      5687\n",
      "JEFFERSON         2636      5802\n",
      "BAKER             6963      5813\n",
      "BRADFORD          6878      6533\n",
      "TAYLOR            3950      6915\n",
      "MADISON           2992      7158\n",
      "DESOTO            4870      7181\n",
      "OKEECHOBEE        7755      7756\n",
      "HENDRY            5862      7999\n",
      "WAKULLA           7374      8889\n",
      "LEVY             11665      9509\n",
      "WALTON           25609     10013\n",
      "SUWANNEE         10745     11126\n",
      "NASSAU           32958     14013\n",
      "COLUMBIA         15790     14797\n",
      "JACKSON           9626     15706\n",
      "MONROE           20602     17614\n",
      "HIGHLANDS        27100     19997\n",
      "PUTNAM           17067     20606\n",
      "GADSDEN           4372     22161\n",
      "SUMTER           47158     22977\n",
      "FLAGLER          30047     24734\n",
      "OKALOOSA         75154     25172\n",
      "SANTA ROSA       73627     26114\n",
      "MARTIN           53800     27358\n",
      "INDIAN RIVER     47794     28204\n",
      "CITRUS           46373     30440\n",
      "BAY              57456     30733\n",
      "CLAY             76584     31285\n",
      "CHARLOTTE        54421     35602\n",
      "ST. JOHNS        88385     39531\n",
      "HERNANDO         51254     42499\n",
      "COLLIER         100167     45511\n",
      "LAKE             93604     67237\n",
      "MANATEE          96063     67926\n",
      "ESCAMBIA         90265     70180\n",
      "OSCEOLA          44594     75657\n",
      "ST. LUCIE        59626     76163\n",
      "MARION           97306     76268\n",
      "ALACHUA          47329     77996\n",
      "SARASOTA        125872     89711\n",
      "SEMINOLE        107833     91686\n",
      "LEON             54554    103140\n",
      "PASCO           125305    104324\n",
      "LEE             180718    114633\n",
      "VOLUSIA         121402    124136\n",
      "BREVARD         167129    127435\n",
      "POLK            140619    143799\n",
      "PINELLAS        223077    221968\n",
      "DUVAL           210195    229501\n",
      "ORANGE          206174    303458\n",
      "HILLSBOROUGH    257436    314265\n",
      "PALM BEACH      245452    367236\n",
      "MIAMI-DADE      362161    539367\n",
      "BROWARD         249762    566185\n",
      "Total          4377713   4637026\n"
     ]
    }
   ],
   "source": [
    "for tup in fullTable: #Printing tuple by tuple \n",
    "    print '{0:12s}'.format(tup[0]) + '{0:10d}'.format(tup[1]) + '{0:10d}'.format(tup[2]) #Lots of fun with formatting"
   ]
  }
 ],
 "metadata": {
  "anaconda-cloud": {},
  "kernelspec": {
   "display_name": "Python [Root]",
   "language": "python",
   "name": "Python [Root]"
  },
  "language_info": {
   "codemirror_mode": {
    "name": "ipython",
    "version": 2
   },
   "file_extension": ".py",
   "mimetype": "text/x-python",
   "name": "python",
   "nbconvert_exporter": "python",
   "pygments_lexer": "ipython2",
   "version": "2.7.11"
  }
 },
 "nbformat": 4,
 "nbformat_minor": 0
}
